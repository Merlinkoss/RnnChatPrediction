{
 "cells": [
  {
   "cell_type": "code",
   "execution_count": 1,
   "metadata": {},
   "outputs": [],
   "source": [
    "import json\n",
    "from collections import Counter\n",
    "from datetime import datetime"
   ]
  },
  {
   "cell_type": "code",
   "execution_count": 3,
   "metadata": {},
   "outputs": [],
   "source": [
    "with open('telegramHistory.json') as json_file:  \n",
    "    data = json.load(json_file)"
   ]
  },
  {
   "cell_type": "code",
   "execution_count": 5,
   "metadata": {},
   "outputs": [],
   "source": [
    "valid_symbols = \" ?!@#$%^&*()><_-+=абвгдаеёжзийклмнопрстуфхцчшщъыьэюяabcdefghijklmnopqrstuvwxyz0123456789.,:;/n\"\n",
    "def checkSymbs(text):\n",
    "    global badSymbols\n",
    "    for c in text:\n",
    "        if c not in valid_symbols:\n",
    "            badSymbols += c\n",
    "            return False\n",
    "        \n",
    "    return True"
   ]
  },
  {
   "cell_type": "code",
   "execution_count": 6,
   "metadata": {},
   "outputs": [
    {
     "name": "stdout",
     "output_type": "stream",
     "text": [
      "443095\n"
     ]
    }
   ],
   "source": [
    "myMessages = []\n",
    "lastDate = None\n",
    "\n",
    "for chat in data['chats']['list']:\n",
    "    if ('name' in chat and 'messages' in chat and len(chat['messages']) > 1000):\n",
    "        #print(chat['name'] + \" \" + str(len(chat['messages'])))\n",
    "        for msg in chat['messages']:\n",
    "            if ('type' in msg and msg['type'] == 'message'):\n",
    "                if ('text' in msg and len(msg['text']) >= 2):\n",
    "                    date = datetime.strptime(msg['date'], \"%Y-%m-%dT%H:%M:%S\").timestamp()\n",
    "                    if lastDate != None and (date - lastDate > 600):\n",
    "                        myMessages.append(\"===\")\n",
    "                    lastDate = date;\n",
    "                    prefix = '> '\n",
    "                    if ('from_id' in msg and msg['from_id'] == 47173181):\n",
    "                        prefix = '< ';\n",
    "                    text = str(msg['text'])\n",
    "                    date\n",
    "                    if not text.startswith('[') and not \"\"\"://\"\"\" in text:\n",
    "                        t = str(msg['text']).lower()\n",
    "                        t = t.replace('\\n', ' ').replace('\\r', ' ').replace('\\t', ' ').replace('\\\"', '').replace('\\'', '')                            \n",
    "                        t = t.replace('  ', ' ')\n",
    "                        if checkSymbs(t):\n",
    "                            myMessages.append(prefix + t)\n",
    "                    \n",
    "print(len(myMessages))"
   ]
  },
  {
   "cell_type": "code",
   "execution_count": 7,
   "metadata": {
    "scrolled": true
   },
   "outputs": [
    {
     "name": "stdout",
     "output_type": "stream",
     "text": [
      "443095\n",
      "['> я вот что поставила', '===', '< ок', '< откуда лиса?', '> не згаю, бвла в телефоне. плохая?', '< нет хорошая', '> а чего он пнглийский?', '< не знаю', '> пришли мне меня!', '< почему-то не сохранилось ((', '> :(((', '> может в другой папке?', '< не могу найти странно', '> вот интересно, а это будет на даче работать?', '< посмотрии', '===', '> успел?', '< да все я на встрече', '===', '> как папа?']\n"
     ]
    }
   ],
   "source": [
    "print(len(myMessages))\n",
    "print(myMessages[:20])"
   ]
  },
  {
   "cell_type": "code",
   "execution_count": 8,
   "metadata": {},
   "outputs": [],
   "source": [
    "with open('myMessages.txt', mode='wt', encoding='utf-8') as myfile:\n",
    "    myfile.write('\\n'.join(str(line) for line in myMessages))"
   ]
  },
  {
   "cell_type": "code",
   "execution_count": null,
   "metadata": {},
   "outputs": [],
   "source": []
  }
 ],
 "metadata": {
  "kernelspec": {
   "display_name": "Python 3",
   "language": "python",
   "name": "python3"
  },
  "language_info": {
   "codemirror_mode": {
    "name": "ipython",
    "version": 3
   },
   "file_extension": ".py",
   "mimetype": "text/x-python",
   "name": "python",
   "nbconvert_exporter": "python",
   "pygments_lexer": "ipython3",
   "version": "3.7.3"
  }
 },
 "nbformat": 4,
 "nbformat_minor": 2
}
